{
  "nbformat": 4,
  "nbformat_minor": 0,
  "metadata": {
    "colab": {
      "provenance": [],
      "gpuType": "T4"
    },
    "kernelspec": {
      "name": "python3",
      "display_name": "Python 3"
    },
    "language_info": {
      "name": "python"
    },
    "accelerator": "GPU"
  },
  "cells": [
    {
      "cell_type": "markdown",
      "source": [
        "# **DoS Detection**"
      ],
      "metadata": {
        "id": "AKkWXes-HWQU"
      }
    },
    {
      "cell_type": "code",
      "execution_count": null,
      "metadata": {
        "colab": {
          "base_uri": "https://localhost:8080/"
        },
        "id": "kPGaNdadHL57",
        "outputId": "714e7057-cedb-4da4-937c-deab081b01a9"
      },
      "outputs": [
        {
          "output_type": "stream",
          "name": "stdout",
          "text": [
            "✅ Extracted .pcap files to: /content/sample_data/extracted_pcap_files\n"
          ]
        }
      ],
      "source": [
        "import zipfile\n",
        "import os\n",
        "\n",
        "zip_file = \"/content/sample_data/iot_intrusion_dataset.zip\"\n",
        "extract_files = \"/content/sample_data/extracted_pcap_files\"\n",
        "\n",
        "# Extract the .zip file\n",
        "with zipfile.ZipFile(zip_file, 'r') as files:\n",
        "    files.extractall(extract_files)\n",
        "\n",
        "print(f\"✅ Extracted .pcap files to: {extract_files}\")"
      ]
    },
    {
      "cell_type": "markdown",
      "source": [
        "\n",
        "\n",
        "---\n",
        "\n",
        "\n",
        "\n",
        "---\n",
        "\n"
      ],
      "metadata": {
        "id": "kKQFGLpbUnaS"
      }
    },
    {
      "cell_type": "markdown",
      "source": [
        "**Install necessary components**"
      ],
      "metadata": {
        "id": "3_miErwTTUt2"
      }
    },
    {
      "cell_type": "code",
      "source": [
        "pip install scapy pandas numpy scikit-learn joblib"
      ],
      "metadata": {
        "colab": {
          "base_uri": "https://localhost:8080/"
        },
        "id": "uxTqrigZL7UN",
        "outputId": "24830d25-dff4-4451-9996-3c193b11185f"
      },
      "execution_count": null,
      "outputs": [
        {
          "output_type": "stream",
          "name": "stdout",
          "text": [
            "Collecting scapy\n",
            "  Downloading scapy-2.6.1-py3-none-any.whl.metadata (5.6 kB)\n",
            "Requirement already satisfied: pandas in /usr/local/lib/python3.11/dist-packages (2.2.2)\n",
            "Requirement already satisfied: numpy in /usr/local/lib/python3.11/dist-packages (2.0.2)\n",
            "Requirement already satisfied: scikit-learn in /usr/local/lib/python3.11/dist-packages (1.6.1)\n",
            "Requirement already satisfied: joblib in /usr/local/lib/python3.11/dist-packages (1.4.2)\n",
            "Requirement already satisfied: python-dateutil>=2.8.2 in /usr/local/lib/python3.11/dist-packages (from pandas) (2.8.2)\n",
            "Requirement already satisfied: pytz>=2020.1 in /usr/local/lib/python3.11/dist-packages (from pandas) (2025.2)\n",
            "Requirement already satisfied: tzdata>=2022.7 in /usr/local/lib/python3.11/dist-packages (from pandas) (2025.2)\n",
            "Requirement already satisfied: scipy>=1.6.0 in /usr/local/lib/python3.11/dist-packages (from scikit-learn) (1.14.1)\n",
            "Requirement already satisfied: threadpoolctl>=3.1.0 in /usr/local/lib/python3.11/dist-packages (from scikit-learn) (3.6.0)\n",
            "Requirement already satisfied: six>=1.5 in /usr/local/lib/python3.11/dist-packages (from python-dateutil>=2.8.2->pandas) (1.17.0)\n",
            "Downloading scapy-2.6.1-py3-none-any.whl (2.4 MB)\n",
            "\u001b[2K   \u001b[90m━━━━━━━━━━━━━━━━━━━━━━━━━━━━━━━━━━━━━━━━\u001b[0m \u001b[32m2.4/2.4 MB\u001b[0m \u001b[31m32.6 MB/s\u001b[0m eta \u001b[36m0:00:00\u001b[0m\n",
            "\u001b[?25hInstalling collected packages: scapy\n",
            "Successfully installed scapy-2.6.1\n"
          ]
        }
      ]
    },
    {
      "cell_type": "markdown",
      "source": [
        "\n",
        "\n",
        "---\n",
        "\n",
        "\n",
        "\n",
        "---\n",
        "\n"
      ],
      "metadata": {
        "id": "aDPh7XXcUpN2"
      }
    },
    {
      "cell_type": "markdown",
      "source": [
        "**Extract features from the .pcap files**"
      ],
      "metadata": {
        "id": "ROBu-vHXTeNb"
      }
    },
    {
      "cell_type": "markdown",
      "source": [
        "1️⃣ Destination IP (dst_ip)\n",
        "Why?\n",
        "\n",
        "Helps identify whether an IP is being specifically targeted in an attack.\n",
        "SYN flood attacks usually target a single victim IP (e.g., 192.168.1.200).\n",
        "Normal traffic is usually more distributed across different destination IPs.\n",
        "✔ Example:\n",
        "✅ Normal Traffic → Destinations vary (192.168.1.10, 192.168.1.50, etc.)\n",
        "❌ SYN Flood Attack → Targeted at one IP (192.168.1.200)\n",
        "\n",
        "2️⃣ Destination Port (dst_port)\n",
        "Why?\n",
        "\n",
        "Helps detect if the attack is targeting a specific service.\n",
        "Many attacks target specific ports known for vulnerabilities (e.g., 554 for RTSP cameras).\n",
        "Normal traffic uses a variety of ports (e.g., 80 for HTTP, 443 for HTTPS).\n",
        "✔ Example:\n",
        "✅ Normal Traffic → Uses mixed ports: 80 (Web), 443 (HTTPS), 22 (SSH), 53 (DNS)\n",
        "❌ SYN Flood Attack → Floods one port: 554 (RTSP)\n",
        "\n",
        "3️⃣ Packet Size (packet_size)\n",
        "Why?\n",
        "\n",
        "Attack traffic often has fixed-size packets, whereas normal traffic varies in size.\n",
        "SYN flood packets usually have a small and constant size (~60 bytes).\n",
        "Normal traffic packets vary in size depending on the protocol (HTTP, DNS, etc.).\n",
        "✔ Example:\n",
        "✅ Normal Traffic → Varies (50-150 bytes, depends on data)\n",
        "❌ SYN Flood Attack → Fixed size (60 bytes per packet)\n",
        "\n",
        "4️⃣ SYN Flag (syn_flag)\n",
        "Why?\n",
        "\n",
        "SYN flood attacks send a high number of SYN packets without completing the handshake.\n",
        "Normal traffic has both SYN and ACK packets (full handshake).\n",
        "✔ Example:\n",
        "✅ Normal Traffic → SYN sometimes, but also has ACK packets.\n",
        "❌ SYN Flood Attack → SYN always (syn_flag = 1), no ACKs.\n",
        "\n",
        "5️⃣ ACK Flag (ack_flag)\n",
        "Why?\n",
        "\n",
        "Helps detect if the handshake is completed or not.\n",
        "Normal traffic has ACK responses (ack_flag = 1), but SYN flood attacks do not receive ACKs (ack_flag = 0).\n",
        "✔ Example:\n",
        "✅ Normal Traffic → SYN + ACK (ack_flag = 1)\n",
        "❌ SYN Flood Attack → Only SYN (ack_flag = 0)"
      ],
      "metadata": {
        "id": "WMYN13lyTw8e"
      }
    },
    {
      "cell_type": "markdown",
      "source": [
        "\n",
        "\n",
        "---\n",
        "\n",
        "\n",
        "\n",
        "---\n",
        "\n"
      ],
      "metadata": {
        "id": "tRT3Euh1Urg6"
      }
    },
    {
      "cell_type": "markdown",
      "source": [
        "**Train the model using dos .pcap files 1 and 4**"
      ],
      "metadata": {
        "id": "aeSdL1PsaE5c"
      }
    },
    {
      "cell_type": "code",
      "source": [
        "from scapy.all import rdpcap, IP, TCP\n",
        "import pandas as pd\n",
        "import joblib\n",
        "from sklearn.model_selection import train_test_split\n",
        "from sklearn.ensemble import RandomForestClassifier\n",
        "from sklearn.metrics import accuracy_score, precision_score, recall_score, f1_score\n",
        "\n",
        "# List of PCAP files and their respective DoS filtering rules\n",
        "pcap_files = [\n",
        "    (\"/content/sample_data/extracted_pcap_files/dos-synflooding-1-dec.pcap\", \"222.\", \"192.168.0.13\", 554),  # First rule\n",
        "    (\"/content/sample_data/extracted_pcap_files/dos-synflooding-4-dec.pcap\", \"111.\", \"192.168.0.24\", 19604)  # Second rule\n",
        "]\n",
        "\n",
        "# Function to extract features from a given PCAP file\n",
        "def extract_features_from_pcap(pcap_path, attack_src_prefix, attack_dst, attack_port):\n",
        "    packets = rdpcap(pcap_path)\n",
        "    traffic_data = []\n",
        "\n",
        "    for packet in packets:\n",
        "        if IP in packet and TCP in packet:\n",
        "            src_ip = packet[IP].src\n",
        "            dst_ip = packet[IP].dst\n",
        "            dst_port = packet[TCP].dport\n",
        "            packet_size = len(packet)\n",
        "            syn_flag = 0\n",
        "            ack_flag = 0\n",
        "\n",
        "            # Check if the SYN flag (0x02) is set in the TCP header\n",
        "            if packet[TCP].flags & 0x02:\n",
        "                syn_flag = 1\n",
        "            else:\n",
        "                syn_flag = 0\n",
        "\n",
        "            # Check if the ACK flag (0x10) is set in the TCP header\n",
        "            if packet[TCP].flags & 0x10:\n",
        "                ack_flag = 1\n",
        "            else:\n",
        "                ack_flag = 0\n",
        "\n",
        "            # Labeling: DoS attack if it matches the Wireshark rule for this PCAP file\n",
        "            if (dst_ip == attack_dst and syn_flag == 1 and\n",
        "                src_ip.startswith(attack_src_prefix) and dst_port == attack_port):\n",
        "                label = 1  # DoS Attack\n",
        "            else:\n",
        "                label = 0  # Normal Traffic\n",
        "\n",
        "            traffic_data.append([dst_ip, dst_port, packet_size, syn_flag, ack_flag, label])\n",
        "\n",
        "    return pd.DataFrame(traffic_data, columns=[\"dst_ip\", \"dst_port\", \"packet_size\", \"syn_flag\", \"ack_flag\", \"label\"])\n",
        "\n",
        "# Extract features from both PCAP files\n",
        "df_list = []\n",
        "for pcap_file, src_prefix, dst_ip, dst_port in pcap_files:\n",
        "    df_list.append(extract_features_from_pcap(pcap_file, src_prefix, dst_ip, dst_port))\n",
        "\n",
        "# Merge both datasets\n",
        "df_combined = pd.concat(df_list, ignore_index=True)\n",
        "\n",
        "# Convert categorical IP addresses to numerical values\n",
        "df_combined[\"dst_ip\"] = df_combined[\"dst_ip\"].astype(\"category\").cat.codes\n",
        "\n",
        "# Split data into features (X) and labels (y)\n",
        "X = df_combined.drop(columns=[\"label\"])\n",
        "y = df_combined[\"label\"]\n",
        "\n",
        "# Split into training and testing sets (80% train, 20% test)\n",
        "X_train, X_test, y_train, y_test = train_test_split(X, y, test_size=0.2, random_state=42)\n",
        "\n",
        "# Train the IDS model using a Random Forest Classifier\n",
        "model = RandomForestClassifier(n_estimators=100, random_state=42)\n",
        "model.fit(X_train, y_train)\n",
        "\n",
        "# Save the updated model\n",
        "joblib.dump(model, \"/content/sample_data/ids_model_v2.pkl\")\n",
        "\n",
        "# Evaluate model performance\n",
        "y_pred = model.predict(X_test)\n",
        "accuracy = accuracy_score(y_test, y_pred)\n",
        "precision = precision_score(y_test, y_pred)\n",
        "recall = recall_score(y_test, y_pred)\n",
        "f1 = f1_score(y_test, y_pred)\n",
        "\n",
        "# Print results\n",
        "print(f\"✅ Accuracy: {accuracy:.4f}\")\n",
        "print(f\"🎯 Precision: {precision:.4f}\")\n",
        "print(f\"📢 Recall: {recall:.4f}\")\n",
        "print(f\"📊 F1-score: {f1:.4f}\")\n"
      ],
      "metadata": {
        "colab": {
          "base_uri": "https://localhost:8080/"
        },
        "id": "GoNNZTEZYlkr",
        "outputId": "1198c410-b7b8-41cd-9562-f5f62c2867e8"
      },
      "execution_count": null,
      "outputs": [
        {
          "output_type": "stream",
          "name": "stdout",
          "text": [
            "✅ Accuracy: 0.9997\n",
            "🎯 Precision: 1.0000\n",
            "📢 Recall: 0.9994\n",
            "📊 F1-score: 0.9997\n"
          ]
        }
      ]
    },
    {
      "cell_type": "markdown",
      "source": [
        "**now test the model again**"
      ],
      "metadata": {
        "id": "eWFjNChCcP1W"
      }
    },
    {
      "cell_type": "markdown",
      "source": [
        "ids_model v2"
      ],
      "metadata": {
        "id": "z48EJpPyhtlT"
      }
    },
    {
      "cell_type": "code",
      "source": [
        "from scapy.all import rdpcap, IP, TCP\n",
        "import pandas as pd\n",
        "import joblib\n",
        "from sklearn.metrics import accuracy_score, precision_score, recall_score, f1_score\n",
        "\n",
        "# Load trained IDS model\n",
        "model = joblib.load(\"/content/sample_data/ids_model_v2.pkl\")\n",
        "\n",
        "# List of PCAP files and their respective DoS filtering rules\n",
        "pcap_files = [\n",
        "    (\"/content/sample_data/extracted_pcap_files/dos-synflooding-1-dec.pcap\", \"222.\", \"192.168.0.13\", 554),  # First rule\n",
        "    (\"/content/sample_data/extracted_pcap_files/dos-synflooding-2-dec.pcap\", \"222.\", \"192.168.0.13\", 554),\n",
        "    (\"/content/sample_data/extracted_pcap_files/dos-synflooding-3-dec.pcap\", \"111.\", \"192.168.0.13\", 554),\n",
        "    (\"/content/sample_data/extracted_pcap_files/dos-synflooding-4-dec.pcap\", \"111.\", \"192.168.0.24\", 19604),  # Second rule\n",
        "    (\"/content/sample_data/extracted_pcap_files/dos-synflooding-5-dec.pcap\", \"111.\", \"192.168.0.24\", 19604),\n",
        "    (\"/content/sample_data/extracted_pcap_files/dos-synflooding-6-dec.pcap\", \"111.\", \"192.168.0.24\", 19604)\n",
        "]\n",
        "\n",
        "# Function to extract features from a given PCAP file\n",
        "def extract_features_from_pcap(pcap_path, attack_src_prefix, attack_dst, attack_port):\n",
        "    packets = rdpcap(pcap_path)\n",
        "    traffic_data = []\n",
        "\n",
        "    for packet in packets:\n",
        "        if IP in packet and TCP in packet:\n",
        "            src_ip = packet[IP].src\n",
        "            dst_ip = packet[IP].dst\n",
        "            dst_port = packet[TCP].dport\n",
        "            packet_size = len(packet)\n",
        "            syn_flag = 1 if packet[TCP].flags & 0x02 else 0  # SYN flag\n",
        "            ack_flag = 1 if packet[TCP].flags & 0x10 else 0  # ACK flag\n",
        "\n",
        "            # Labeling: DoS attack if it matches the Wireshark rule for this PCAP file\n",
        "            if (dst_ip == attack_dst and syn_flag == 1 and\n",
        "                src_ip.startswith(attack_src_prefix) and dst_port == attack_port):\n",
        "                label = 1  # DoS Attack\n",
        "            else:\n",
        "                label = 0  # Normal Traffic\n",
        "\n",
        "            traffic_data.append([dst_ip, dst_port, packet_size, syn_flag, ack_flag, label])\n",
        "\n",
        "    return pd.DataFrame(traffic_data, columns=[\"dst_ip\", \"dst_port\", \"packet_size\", \"syn_flag\", \"ack_flag\", \"label\"])\n",
        "\n",
        "file = 1\n",
        "for pcap_file, src_prefix, dst_ip, dst_port in pcap_files:\n",
        "    # Extract features from new PCAP file\n",
        "    df_test = extract_features_from_pcap(pcap_file, src_prefix, dst_ip, dst_port)\n",
        "\n",
        "    # Convert categorical IP addresses to numerical values\n",
        "    df_test[\"dst_ip\"] = df_test[\"dst_ip\"].astype(\"category\").cat.codes\n",
        "\n",
        "    # Split into features (X) and labels (y)\n",
        "    X_test = df_test.drop(columns=[\"label\"])\n",
        "    y_test = df_test[\"label\"]\n",
        "\n",
        "    #df_test = extract_features_from_pcap(pcap_file)\n",
        "    #print(df_test.head(10))  # Show first 10 packets with labels\n",
        "\n",
        "    # Predict using the trained model\n",
        "    y_pred = model.predict(X_test)\n",
        "\n",
        "\n",
        "    # Evaluate model performance\n",
        "    accuracy = accuracy_score(y_test, y_pred)\n",
        "    precision = precision_score(y_test, y_pred)\n",
        "    recall = recall_score(y_test, y_pred)\n",
        "    f1 = f1_score(y_test, y_pred)\n",
        "\n",
        "    # Print results\n",
        "    print(\"\\n\")\n",
        "    print(f\"Test with .pcap file number {file}\")\n",
        "    print(f\"✅ Accuracy: {accuracy:.4f}\")\n",
        "    print(f\"🎯 Precision: {precision:.4f}\")\n",
        "    print(f\"📢 Recall: {recall:.4f}\")\n",
        "    print(f\"📊 F1-score: {f1:.4f}\")\n",
        "    print(pd.Series(y_pred).value_counts())  # Show count of 0s (normal) and 1s (DoS)\n",
        "    file += 1\n"
      ],
      "metadata": {
        "colab": {
          "base_uri": "https://localhost:8080/"
        },
        "id": "bH9iYP2UhfB8",
        "outputId": "f2260d67-d262-4c7c-dc2d-32332a411dbb"
      },
      "execution_count": null,
      "outputs": [
        {
          "output_type": "stream",
          "name": "stdout",
          "text": [
            "\n",
            "\n",
            "Test with .pcap file number 1\n",
            "✅ Accuracy: 0.9998\n",
            "🎯 Precision: 0.9997\n",
            "📢 Recall: 0.9998\n",
            "📊 F1-score: 0.9998\n",
            "0    21926\n",
            "1    18706\n",
            "Name: count, dtype: int64\n",
            "\n",
            "\n",
            "Test with .pcap file number 2\n",
            "✅ Accuracy: 0.9997\n",
            "🎯 Precision: 0.9995\n",
            "📢 Recall: 0.9999\n",
            "📊 F1-score: 0.9997\n",
            "0    18374\n",
            "1    16872\n",
            "Name: count, dtype: int64\n",
            "\n",
            "\n",
            "Test with .pcap file number 3\n",
            "✅ Accuracy: 0.9988\n",
            "🎯 Precision: 1.0000\n",
            "📢 Recall: 0.9975\n",
            "📊 F1-score: 0.9988\n",
            "0    12817\n",
            "1    12509\n",
            "Name: count, dtype: int64\n",
            "\n",
            "\n",
            "Test with .pcap file number 4\n",
            "✅ Accuracy: 0.9996\n",
            "🎯 Precision: 1.0000\n",
            "📢 Recall: 0.9991\n",
            "📊 F1-score: 0.9996\n",
            "0    5610\n",
            "1    4688\n",
            "Name: count, dtype: int64\n",
            "\n",
            "\n",
            "Test with .pcap file number 5\n",
            "✅ Accuracy: 0.9994\n",
            "🎯 Precision: 1.0000\n",
            "📢 Recall: 0.9987\n",
            "📊 F1-score: 0.9994\n",
            "0    5575\n",
            "1    5541\n",
            "Name: count, dtype: int64\n",
            "\n",
            "\n",
            "Test with .pcap file number 6\n",
            "✅ Accuracy: 0.9993\n",
            "🎯 Precision: 1.0000\n",
            "📢 Recall: 0.9986\n",
            "📊 F1-score: 0.9993\n",
            "0    6509\n",
            "1    6294\n",
            "Name: count, dtype: int64\n"
          ]
        }
      ]
    },
    {
      "cell_type": "code",
      "source": [],
      "metadata": {
        "id": "W-C5ZvOkhzvj"
      },
      "execution_count": null,
      "outputs": []
    }
  ]
}